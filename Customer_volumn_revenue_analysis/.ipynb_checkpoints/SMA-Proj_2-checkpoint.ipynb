{
 "cells": [
  {
   "cell_type": "code",
   "execution_count": 14,
   "metadata": {},
   "outputs": [],
   "source": [
    "import numpy as np\n",
    "import pandas as pd\n",
    "from sklearn.linear_model import LogisticRegression, LogisticRegressionCV\n",
    "from sklearn.model_selection import train_test_split\n",
    "from sklearn import metrics\n",
    "import matplotlib.pylab as plt\n",
    "import seaborn as sns"
   ]
  },
  {
   "cell_type": "code",
   "execution_count": 15,
   "metadata": {},
   "outputs": [],
   "source": [
    "from sklearn.linear_model import LinearRegression\n",
    "import statsmodels.formula.api as smf"
   ]
  },
  {
   "cell_type": "code",
   "execution_count": 16,
   "metadata": {},
   "outputs": [],
   "source": [
    "plat_df = pd.read_csv(\"DATA_threesources.csv\")"
   ]
  },
  {
   "cell_type": "code",
   "execution_count": 17,
   "metadata": {},
   "outputs": [
    {
     "data": {
      "text/html": [
       "<div>\n",
       "<style scoped>\n",
       "    .dataframe tbody tr th:only-of-type {\n",
       "        vertical-align: middle;\n",
       "    }\n",
       "\n",
       "    .dataframe tbody tr th {\n",
       "        vertical-align: top;\n",
       "    }\n",
       "\n",
       "    .dataframe thead th {\n",
       "        text-align: right;\n",
       "    }\n",
       "</style>\n",
       "<table border=\"1\" class=\"dataframe\">\n",
       "  <thead>\n",
       "    <tr style=\"text-align: right;\">\n",
       "      <th></th>\n",
       "      <th>Date</th>\n",
       "      <th>Search AD</th>\n",
       "      <th>Membership</th>\n",
       "      <th>Direct Volumn</th>\n",
       "      <th>Search Volumn</th>\n",
       "      <th>Referral Volumn</th>\n",
       "      <th>Number of Ads</th>\n",
       "      <th>Display AD</th>\n",
       "      <th>Seller Community</th>\n",
       "      <th>State</th>\n",
       "    </tr>\n",
       "  </thead>\n",
       "  <tbody>\n",
       "    <tr>\n",
       "      <td>0</td>\n",
       "      <td>10/1/10</td>\n",
       "      <td>611911.04</td>\n",
       "      <td>3164.0</td>\n",
       "      <td>254742</td>\n",
       "      <td>925349.0</td>\n",
       "      <td>532800.0</td>\n",
       "      <td>57</td>\n",
       "      <td>910262.0</td>\n",
       "      <td>8621</td>\n",
       "      <td>0</td>\n",
       "    </tr>\n",
       "    <tr>\n",
       "      <td>1</td>\n",
       "      <td>10/2/10</td>\n",
       "      <td>304285.14</td>\n",
       "      <td>4367.0</td>\n",
       "      <td>320438</td>\n",
       "      <td>1182742.0</td>\n",
       "      <td>683447.0</td>\n",
       "      <td>57</td>\n",
       "      <td>910262.0</td>\n",
       "      <td>160992</td>\n",
       "      <td>0</td>\n",
       "    </tr>\n",
       "    <tr>\n",
       "      <td>2</td>\n",
       "      <td>10/3/10</td>\n",
       "      <td>314934.69</td>\n",
       "      <td>5693.0</td>\n",
       "      <td>298304</td>\n",
       "      <td>1201440.0</td>\n",
       "      <td>672891.0</td>\n",
       "      <td>57</td>\n",
       "      <td>910262.0</td>\n",
       "      <td>4256748</td>\n",
       "      <td>0</td>\n",
       "    </tr>\n",
       "    <tr>\n",
       "      <td>3</td>\n",
       "      <td>10/4/10</td>\n",
       "      <td>735275.26</td>\n",
       "      <td>7634.0</td>\n",
       "      <td>1212023</td>\n",
       "      <td>1321080.0</td>\n",
       "      <td>1036487.0</td>\n",
       "      <td>57</td>\n",
       "      <td>910262.0</td>\n",
       "      <td>286411</td>\n",
       "      <td>0</td>\n",
       "    </tr>\n",
       "    <tr>\n",
       "      <td>4</td>\n",
       "      <td>10/5/10</td>\n",
       "      <td>773972.96</td>\n",
       "      <td>7861.0</td>\n",
       "      <td>1235900</td>\n",
       "      <td>1412837.0</td>\n",
       "      <td>1100739.0</td>\n",
       "      <td>57</td>\n",
       "      <td>910262.0</td>\n",
       "      <td>2762952</td>\n",
       "      <td>0</td>\n",
       "    </tr>\n",
       "  </tbody>\n",
       "</table>\n",
       "</div>"
      ],
      "text/plain": [
       "      Date  Search AD  Membership  Direct Volumn  Search Volumn  \\\n",
       "0  10/1/10  611911.04      3164.0         254742       925349.0   \n",
       "1  10/2/10  304285.14      4367.0         320438      1182742.0   \n",
       "2  10/3/10  314934.69      5693.0         298304      1201440.0   \n",
       "3  10/4/10  735275.26      7634.0        1212023      1321080.0   \n",
       "4  10/5/10  773972.96      7861.0        1235900      1412837.0   \n",
       "\n",
       "   Referral Volumn  Number of Ads  Display AD  Seller Community  State  \n",
       "0         532800.0             57    910262.0              8621      0  \n",
       "1         683447.0             57    910262.0            160992      0  \n",
       "2         672891.0             57    910262.0           4256748      0  \n",
       "3        1036487.0             57    910262.0            286411      0  \n",
       "4        1100739.0             57    910262.0           2762952      0  "
      ]
     },
     "execution_count": 17,
     "metadata": {},
     "output_type": "execute_result"
    }
   ],
   "source": [
    "plat_df.head()"
   ]
  },
  {
   "cell_type": "code",
   "execution_count": 18,
   "metadata": {},
   "outputs": [
    {
     "data": {
      "text/plain": [
       "(358, 10)"
      ]
     },
     "execution_count": 18,
     "metadata": {},
     "output_type": "execute_result"
    }
   ],
   "source": [
    "plat_df.shape"
   ]
  },
  {
   "cell_type": "code",
   "execution_count": 19,
   "metadata": {},
   "outputs": [
    {
     "name": "stdout",
     "output_type": "stream",
     "text": [
      "Index(['Date', 'Search_AD', 'Membership', 'Direct_Volumn', 'Search_Volumn',\n",
      "       'Referral_Volumn', 'Number_of_Ads', 'Display_AD', 'Seller_Community',\n",
      "       'State'],\n",
      "      dtype='object')\n"
     ]
    }
   ],
   "source": [
    "plat_df.columns = [s.replace(' ', '_') for s in plat_df.columns] \n",
    "print (plat_df.columns)"
   ]
  },
  {
   "cell_type": "code",
   "execution_count": 20,
   "metadata": {},
   "outputs": [
    {
     "data": {
      "text/html": [
       "<div>\n",
       "<style scoped>\n",
       "    .dataframe tbody tr th:only-of-type {\n",
       "        vertical-align: middle;\n",
       "    }\n",
       "\n",
       "    .dataframe tbody tr th {\n",
       "        vertical-align: top;\n",
       "    }\n",
       "\n",
       "    .dataframe thead th {\n",
       "        text-align: right;\n",
       "    }\n",
       "</style>\n",
       "<table border=\"1\" class=\"dataframe\">\n",
       "  <thead>\n",
       "    <tr style=\"text-align: right;\">\n",
       "      <th></th>\n",
       "      <th>mean</th>\n",
       "      <th>sd</th>\n",
       "      <th>min</th>\n",
       "      <th>max</th>\n",
       "      <th>median</th>\n",
       "      <th>length</th>\n",
       "      <th>miss.val</th>\n",
       "    </tr>\n",
       "  </thead>\n",
       "  <tbody>\n",
       "    <tr>\n",
       "      <td>Date</td>\n",
       "      <td>NaN</td>\n",
       "      <td>NaN</td>\n",
       "      <td>1/1/11</td>\n",
       "      <td>9/9/11</td>\n",
       "      <td>NaN</td>\n",
       "      <td>358</td>\n",
       "      <td>0</td>\n",
       "    </tr>\n",
       "    <tr>\n",
       "      <td>Direct_Volumn</td>\n",
       "      <td>7.657735e+05</td>\n",
       "      <td>383676.073467</td>\n",
       "      <td>70899</td>\n",
       "      <td>1668166</td>\n",
       "      <td>656746.500</td>\n",
       "      <td>358</td>\n",
       "      <td>0</td>\n",
       "    </tr>\n",
       "    <tr>\n",
       "      <td>Display_AD</td>\n",
       "      <td>6.612692e+05</td>\n",
       "      <td>505884.232114</td>\n",
       "      <td>1000</td>\n",
       "      <td>2.60325e+06</td>\n",
       "      <td>518016.000</td>\n",
       "      <td>358</td>\n",
       "      <td>0</td>\n",
       "    </tr>\n",
       "    <tr>\n",
       "      <td>Membership</td>\n",
       "      <td>1.233830e+04</td>\n",
       "      <td>3709.295248</td>\n",
       "      <td>170</td>\n",
       "      <td>20742</td>\n",
       "      <td>12888.500</td>\n",
       "      <td>358</td>\n",
       "      <td>0</td>\n",
       "    </tr>\n",
       "    <tr>\n",
       "      <td>Number_of_Ads</td>\n",
       "      <td>3.641061e+01</td>\n",
       "      <td>28.743171</td>\n",
       "      <td>1</td>\n",
       "      <td>157</td>\n",
       "      <td>27.000</td>\n",
       "      <td>358</td>\n",
       "      <td>0</td>\n",
       "    </tr>\n",
       "    <tr>\n",
       "      <td>Referral_Volumn</td>\n",
       "      <td>1.246226e+06</td>\n",
       "      <td>579074.488872</td>\n",
       "      <td>331815</td>\n",
       "      <td>6.74806e+06</td>\n",
       "      <td>1217591.500</td>\n",
       "      <td>358</td>\n",
       "      <td>0</td>\n",
       "    </tr>\n",
       "    <tr>\n",
       "      <td>Search_AD</td>\n",
       "      <td>9.031330e+05</td>\n",
       "      <td>253682.405644</td>\n",
       "      <td>162245</td>\n",
       "      <td>1.48174e+06</td>\n",
       "      <td>1001029.645</td>\n",
       "      <td>358</td>\n",
       "      <td>0</td>\n",
       "    </tr>\n",
       "    <tr>\n",
       "      <td>Search_Volumn</td>\n",
       "      <td>1.092121e+06</td>\n",
       "      <td>366460.813439</td>\n",
       "      <td>305591</td>\n",
       "      <td>2.03604e+06</td>\n",
       "      <td>1022613.000</td>\n",
       "      <td>358</td>\n",
       "      <td>0</td>\n",
       "    </tr>\n",
       "    <tr>\n",
       "      <td>Seller_Community</td>\n",
       "      <td>4.665602e+05</td>\n",
       "      <td>971469.824443</td>\n",
       "      <td>0</td>\n",
       "      <td>4316673</td>\n",
       "      <td>81851.000</td>\n",
       "      <td>358</td>\n",
       "      <td>0</td>\n",
       "    </tr>\n",
       "    <tr>\n",
       "      <td>State</td>\n",
       "      <td>5.782123e-01</td>\n",
       "      <td>0.494536</td>\n",
       "      <td>0</td>\n",
       "      <td>1</td>\n",
       "      <td>1.000</td>\n",
       "      <td>358</td>\n",
       "      <td>0</td>\n",
       "    </tr>\n",
       "  </tbody>\n",
       "</table>\n",
       "</div>"
      ],
      "text/plain": [
       "                          mean             sd     min          max  \\\n",
       "Date                       NaN            NaN  1/1/11       9/9/11   \n",
       "Direct_Volumn     7.657735e+05  383676.073467   70899      1668166   \n",
       "Display_AD        6.612692e+05  505884.232114    1000  2.60325e+06   \n",
       "Membership        1.233830e+04    3709.295248     170        20742   \n",
       "Number_of_Ads     3.641061e+01      28.743171       1          157   \n",
       "Referral_Volumn   1.246226e+06  579074.488872  331815  6.74806e+06   \n",
       "Search_AD         9.031330e+05  253682.405644  162245  1.48174e+06   \n",
       "Search_Volumn     1.092121e+06  366460.813439  305591  2.03604e+06   \n",
       "Seller_Community  4.665602e+05  971469.824443       0      4316673   \n",
       "State             5.782123e-01       0.494536       0            1   \n",
       "\n",
       "                       median  length  miss.val  \n",
       "Date                      NaN     358         0  \n",
       "Direct_Volumn      656746.500     358         0  \n",
       "Display_AD         518016.000     358         0  \n",
       "Membership          12888.500     358         0  \n",
       "Number_of_Ads          27.000     358         0  \n",
       "Referral_Volumn   1217591.500     358         0  \n",
       "Search_AD         1001029.645     358         0  \n",
       "Search_Volumn     1022613.000     358         0  \n",
       "Seller_Community    81851.000     358         0  \n",
       "State                   1.000     358         0  "
      ]
     },
     "execution_count": 20,
     "metadata": {},
     "output_type": "execute_result"
    }
   ],
   "source": [
    "pd.DataFrame({\"mean\": plat_df.mean(), \"sd\": plat_df.std(),\n",
    "\"min\": plat_df.min(),\n",
    "\"max\": plat_df.max(),\n",
    "\"median\": plat_df.median(), \"length\": len(plat_df), \"miss.val\": plat_df.isnull().sum(),\n",
    "})"
   ]
  },
  {
   "cell_type": "code",
   "execution_count": 21,
   "metadata": {},
   "outputs": [
    {
     "data": {
      "text/plain": [
       "Date                 object\n",
       "Search_AD           float64\n",
       "Membership          float64\n",
       "Direct_Volumn         int64\n",
       "Search_Volumn       float64\n",
       "Referral_Volumn     float64\n",
       "Number_of_Ads         int64\n",
       "Display_AD          float64\n",
       "Seller_Community      int64\n",
       "State                 int64\n",
       "dtype: object"
      ]
     },
     "execution_count": 21,
     "metadata": {},
     "output_type": "execute_result"
    }
   ],
   "source": [
    "plat_df.dtypes"
   ]
  },
  {
   "cell_type": "code",
   "execution_count": 22,
   "metadata": {},
   "outputs": [],
   "source": [
    "plat_df[\"Direct_Volumn\"] = plat_df[\"Direct_Volumn\"].astype(\"float\")\n",
    "plat_df[\"State\"] = plat_df[\"State\"].astype(\"category\")"
   ]
  },
  {
   "cell_type": "code",
   "execution_count": 23,
   "metadata": {},
   "outputs": [
    {
     "data": {
      "text/plain": [
       "Date                  object\n",
       "Search_AD            float64\n",
       "Membership           float64\n",
       "Direct_Volumn        float64\n",
       "Search_Volumn        float64\n",
       "Referral_Volumn      float64\n",
       "Number_of_Ads          int64\n",
       "Display_AD           float64\n",
       "Seller_Community       int64\n",
       "State               category\n",
       "dtype: object"
      ]
     },
     "execution_count": 23,
     "metadata": {},
     "output_type": "execute_result"
    }
   ],
   "source": [
    "plat_df.dtypes"
   ]
  },
  {
   "cell_type": "markdown",
   "metadata": {},
   "source": [
    "# add columns"
   ]
  },
  {
   "cell_type": "code",
   "execution_count": 24,
   "metadata": {},
   "outputs": [
    {
     "data": {
      "text/html": [
       "<div>\n",
       "<style scoped>\n",
       "    .dataframe tbody tr th:only-of-type {\n",
       "        vertical-align: middle;\n",
       "    }\n",
       "\n",
       "    .dataframe tbody tr th {\n",
       "        vertical-align: top;\n",
       "    }\n",
       "\n",
       "    .dataframe thead th {\n",
       "        text-align: right;\n",
       "    }\n",
       "</style>\n",
       "<table border=\"1\" class=\"dataframe\">\n",
       "  <thead>\n",
       "    <tr style=\"text-align: right;\">\n",
       "      <th></th>\n",
       "      <th>Date</th>\n",
       "      <th>Search_AD</th>\n",
       "      <th>Membership</th>\n",
       "      <th>Direct_Volumn</th>\n",
       "      <th>Search_Volumn</th>\n",
       "      <th>Referral_Volumn</th>\n",
       "      <th>Number_of_Ads</th>\n",
       "      <th>Display_AD</th>\n",
       "      <th>Seller_Community</th>\n",
       "      <th>State</th>\n",
       "      <th>Membership_Fee</th>\n",
       "      <th>Day</th>\n",
       "    </tr>\n",
       "  </thead>\n",
       "  <tbody>\n",
       "    <tr>\n",
       "      <td>0</td>\n",
       "      <td>10/1/10</td>\n",
       "      <td>611911.04</td>\n",
       "      <td>3164.0</td>\n",
       "      <td>254742.0</td>\n",
       "      <td>925349.0</td>\n",
       "      <td>532800.0</td>\n",
       "      <td>57</td>\n",
       "      <td>910262.0</td>\n",
       "      <td>8621</td>\n",
       "      <td>0</td>\n",
       "      <td>9492000.0</td>\n",
       "      <td>Friday</td>\n",
       "    </tr>\n",
       "    <tr>\n",
       "      <td>1</td>\n",
       "      <td>10/2/10</td>\n",
       "      <td>304285.14</td>\n",
       "      <td>4367.0</td>\n",
       "      <td>320438.0</td>\n",
       "      <td>1182742.0</td>\n",
       "      <td>683447.0</td>\n",
       "      <td>57</td>\n",
       "      <td>910262.0</td>\n",
       "      <td>160992</td>\n",
       "      <td>0</td>\n",
       "      <td>13101000.0</td>\n",
       "      <td>Saturday</td>\n",
       "    </tr>\n",
       "    <tr>\n",
       "      <td>2</td>\n",
       "      <td>10/3/10</td>\n",
       "      <td>314934.69</td>\n",
       "      <td>5693.0</td>\n",
       "      <td>298304.0</td>\n",
       "      <td>1201440.0</td>\n",
       "      <td>672891.0</td>\n",
       "      <td>57</td>\n",
       "      <td>910262.0</td>\n",
       "      <td>4256748</td>\n",
       "      <td>0</td>\n",
       "      <td>17079000.0</td>\n",
       "      <td>Sunday</td>\n",
       "    </tr>\n",
       "    <tr>\n",
       "      <td>3</td>\n",
       "      <td>10/4/10</td>\n",
       "      <td>735275.26</td>\n",
       "      <td>7634.0</td>\n",
       "      <td>1212023.0</td>\n",
       "      <td>1321080.0</td>\n",
       "      <td>1036487.0</td>\n",
       "      <td>57</td>\n",
       "      <td>910262.0</td>\n",
       "      <td>286411</td>\n",
       "      <td>0</td>\n",
       "      <td>22902000.0</td>\n",
       "      <td>Monday</td>\n",
       "    </tr>\n",
       "    <tr>\n",
       "      <td>4</td>\n",
       "      <td>10/5/10</td>\n",
       "      <td>773972.96</td>\n",
       "      <td>7861.0</td>\n",
       "      <td>1235900.0</td>\n",
       "      <td>1412837.0</td>\n",
       "      <td>1100739.0</td>\n",
       "      <td>57</td>\n",
       "      <td>910262.0</td>\n",
       "      <td>2762952</td>\n",
       "      <td>0</td>\n",
       "      <td>23583000.0</td>\n",
       "      <td>Tuesday</td>\n",
       "    </tr>\n",
       "  </tbody>\n",
       "</table>\n",
       "</div>"
      ],
      "text/plain": [
       "      Date  Search_AD  Membership  Direct_Volumn  Search_Volumn  \\\n",
       "0  10/1/10  611911.04      3164.0       254742.0       925349.0   \n",
       "1  10/2/10  304285.14      4367.0       320438.0      1182742.0   \n",
       "2  10/3/10  314934.69      5693.0       298304.0      1201440.0   \n",
       "3  10/4/10  735275.26      7634.0      1212023.0      1321080.0   \n",
       "4  10/5/10  773972.96      7861.0      1235900.0      1412837.0   \n",
       "\n",
       "   Referral_Volumn  Number_of_Ads  Display_AD  Seller_Community State  \\\n",
       "0         532800.0             57    910262.0              8621     0   \n",
       "1         683447.0             57    910262.0            160992     0   \n",
       "2         672891.0             57    910262.0           4256748     0   \n",
       "3        1036487.0             57    910262.0            286411     0   \n",
       "4        1100739.0             57    910262.0           2762952     0   \n",
       "\n",
       "   Membership_Fee       Day  \n",
       "0       9492000.0    Friday  \n",
       "1      13101000.0  Saturday  \n",
       "2      17079000.0    Sunday  \n",
       "3      22902000.0    Monday  \n",
       "4      23583000.0   Tuesday  "
      ]
     },
     "execution_count": 24,
     "metadata": {},
     "output_type": "execute_result"
    }
   ],
   "source": [
    "# revenue from membership = # of new sellers * around USD 3,000/year\n",
    "plat_df[\"Membership_Fee\"] = plat_df[\"Membership\"] * 3000\n",
    "# add day of the date\n",
    "plat_df['Day'] = pd.to_datetime(plat_df['Date']).dt.day_name()\n",
    "plat_df.head()"
   ]
  },
  {
   "cell_type": "code",
   "execution_count": 25,
   "metadata": {},
   "outputs": [],
   "source": [
    "# add holiday & weekends vs. weekdays\n",
    "#import datetime\n",
    "#from chinese_calendar import is_workday, is_holiday\n",
    "#plat_df[\"Workday\"] = "
   ]
  },
  {
   "cell_type": "code",
   "execution_count": 26,
   "metadata": {},
   "outputs": [
    {
     "data": {
      "text/html": [
       "<div>\n",
       "<style scoped>\n",
       "    .dataframe tbody tr th:only-of-type {\n",
       "        vertical-align: middle;\n",
       "    }\n",
       "\n",
       "    .dataframe tbody tr th {\n",
       "        vertical-align: top;\n",
       "    }\n",
       "\n",
       "    .dataframe thead th {\n",
       "        text-align: right;\n",
       "    }\n",
       "</style>\n",
       "<table border=\"1\" class=\"dataframe\">\n",
       "  <thead>\n",
       "    <tr style=\"text-align: right;\">\n",
       "      <th></th>\n",
       "      <th>Date</th>\n",
       "      <th>Search_AD</th>\n",
       "      <th>Membership</th>\n",
       "      <th>Direct_Volumn</th>\n",
       "      <th>Search_Volumn</th>\n",
       "      <th>Referral_Volumn</th>\n",
       "      <th>Number_of_Ads</th>\n",
       "      <th>Display_AD</th>\n",
       "      <th>Seller_Community</th>\n",
       "      <th>State</th>\n",
       "      <th>Membership_Fee</th>\n",
       "      <th>Day</th>\n",
       "      <th>Revenue</th>\n",
       "    </tr>\n",
       "  </thead>\n",
       "  <tbody>\n",
       "    <tr>\n",
       "      <td>0</td>\n",
       "      <td>10/1/10</td>\n",
       "      <td>611911.04</td>\n",
       "      <td>3164.0</td>\n",
       "      <td>254742.0</td>\n",
       "      <td>925349.0</td>\n",
       "      <td>532800.0</td>\n",
       "      <td>57</td>\n",
       "      <td>910262.0</td>\n",
       "      <td>8621</td>\n",
       "      <td>0</td>\n",
       "      <td>9492000.0</td>\n",
       "      <td>Friday</td>\n",
       "      <td>11014173.04</td>\n",
       "    </tr>\n",
       "    <tr>\n",
       "      <td>1</td>\n",
       "      <td>10/2/10</td>\n",
       "      <td>304285.14</td>\n",
       "      <td>4367.0</td>\n",
       "      <td>320438.0</td>\n",
       "      <td>1182742.0</td>\n",
       "      <td>683447.0</td>\n",
       "      <td>57</td>\n",
       "      <td>910262.0</td>\n",
       "      <td>160992</td>\n",
       "      <td>0</td>\n",
       "      <td>13101000.0</td>\n",
       "      <td>Saturday</td>\n",
       "      <td>14315547.14</td>\n",
       "    </tr>\n",
       "    <tr>\n",
       "      <td>2</td>\n",
       "      <td>10/3/10</td>\n",
       "      <td>314934.69</td>\n",
       "      <td>5693.0</td>\n",
       "      <td>298304.0</td>\n",
       "      <td>1201440.0</td>\n",
       "      <td>672891.0</td>\n",
       "      <td>57</td>\n",
       "      <td>910262.0</td>\n",
       "      <td>4256748</td>\n",
       "      <td>0</td>\n",
       "      <td>17079000.0</td>\n",
       "      <td>Sunday</td>\n",
       "      <td>18304196.69</td>\n",
       "    </tr>\n",
       "    <tr>\n",
       "      <td>3</td>\n",
       "      <td>10/4/10</td>\n",
       "      <td>735275.26</td>\n",
       "      <td>7634.0</td>\n",
       "      <td>1212023.0</td>\n",
       "      <td>1321080.0</td>\n",
       "      <td>1036487.0</td>\n",
       "      <td>57</td>\n",
       "      <td>910262.0</td>\n",
       "      <td>286411</td>\n",
       "      <td>0</td>\n",
       "      <td>22902000.0</td>\n",
       "      <td>Monday</td>\n",
       "      <td>24547537.26</td>\n",
       "    </tr>\n",
       "    <tr>\n",
       "      <td>4</td>\n",
       "      <td>10/5/10</td>\n",
       "      <td>773972.96</td>\n",
       "      <td>7861.0</td>\n",
       "      <td>1235900.0</td>\n",
       "      <td>1412837.0</td>\n",
       "      <td>1100739.0</td>\n",
       "      <td>57</td>\n",
       "      <td>910262.0</td>\n",
       "      <td>2762952</td>\n",
       "      <td>0</td>\n",
       "      <td>23583000.0</td>\n",
       "      <td>Tuesday</td>\n",
       "      <td>25267234.96</td>\n",
       "    </tr>\n",
       "  </tbody>\n",
       "</table>\n",
       "</div>"
      ],
      "text/plain": [
       "      Date  Search_AD  Membership  Direct_Volumn  Search_Volumn  \\\n",
       "0  10/1/10  611911.04      3164.0       254742.0       925349.0   \n",
       "1  10/2/10  304285.14      4367.0       320438.0      1182742.0   \n",
       "2  10/3/10  314934.69      5693.0       298304.0      1201440.0   \n",
       "3  10/4/10  735275.26      7634.0      1212023.0      1321080.0   \n",
       "4  10/5/10  773972.96      7861.0      1235900.0      1412837.0   \n",
       "\n",
       "   Referral_Volumn  Number_of_Ads  Display_AD  Seller_Community State  \\\n",
       "0         532800.0             57    910262.0              8621     0   \n",
       "1         683447.0             57    910262.0            160992     0   \n",
       "2         672891.0             57    910262.0           4256748     0   \n",
       "3        1036487.0             57    910262.0            286411     0   \n",
       "4        1100739.0             57    910262.0           2762952     0   \n",
       "\n",
       "   Membership_Fee       Day      Revenue  \n",
       "0       9492000.0    Friday  11014173.04  \n",
       "1      13101000.0  Saturday  14315547.14  \n",
       "2      17079000.0    Sunday  18304196.69  \n",
       "3      22902000.0    Monday  24547537.26  \n",
       "4      23583000.0   Tuesday  25267234.96  "
      ]
     },
     "execution_count": 26,
     "metadata": {},
     "output_type": "execute_result"
    }
   ],
   "source": [
    "# total revenue\n",
    "plat_df['Revenue'] = plat_df[\"Membership_Fee\"] + plat_df[\"Search_AD\"] + plat_df[\"Display_AD\"]\n",
    "plat_df.head()"
   ]
  },
  {
   "cell_type": "code",
   "execution_count": 27,
   "metadata": {},
   "outputs": [
    {
     "data": {
      "text/html": [
       "<div>\n",
       "<style scoped>\n",
       "    .dataframe tbody tr th:only-of-type {\n",
       "        vertical-align: middle;\n",
       "    }\n",
       "\n",
       "    .dataframe tbody tr th {\n",
       "        vertical-align: top;\n",
       "    }\n",
       "\n",
       "    .dataframe thead th {\n",
       "        text-align: right;\n",
       "    }\n",
       "</style>\n",
       "<table border=\"1\" class=\"dataframe\">\n",
       "  <thead>\n",
       "    <tr style=\"text-align: right;\">\n",
       "      <th></th>\n",
       "      <th>Date</th>\n",
       "      <th>Search_AD</th>\n",
       "      <th>Membership</th>\n",
       "      <th>Direct_Volumn</th>\n",
       "      <th>Search_Volumn</th>\n",
       "      <th>Referral_Volumn</th>\n",
       "      <th>Number_of_Ads</th>\n",
       "      <th>Display_AD</th>\n",
       "      <th>Seller_Community</th>\n",
       "      <th>State</th>\n",
       "      <th>Membership_Fee</th>\n",
       "      <th>Day</th>\n",
       "      <th>Revenue</th>\n",
       "      <th>Volumn</th>\n",
       "    </tr>\n",
       "  </thead>\n",
       "  <tbody>\n",
       "    <tr>\n",
       "      <td>0</td>\n",
       "      <td>10/1/10</td>\n",
       "      <td>611911.04</td>\n",
       "      <td>3164.0</td>\n",
       "      <td>254742.0</td>\n",
       "      <td>925349.0</td>\n",
       "      <td>532800.0</td>\n",
       "      <td>57</td>\n",
       "      <td>910262.0</td>\n",
       "      <td>8621</td>\n",
       "      <td>0</td>\n",
       "      <td>9492000.0</td>\n",
       "      <td>Friday</td>\n",
       "      <td>11014173.04</td>\n",
       "      <td>1712891.0</td>\n",
       "    </tr>\n",
       "    <tr>\n",
       "      <td>1</td>\n",
       "      <td>10/2/10</td>\n",
       "      <td>304285.14</td>\n",
       "      <td>4367.0</td>\n",
       "      <td>320438.0</td>\n",
       "      <td>1182742.0</td>\n",
       "      <td>683447.0</td>\n",
       "      <td>57</td>\n",
       "      <td>910262.0</td>\n",
       "      <td>160992</td>\n",
       "      <td>0</td>\n",
       "      <td>13101000.0</td>\n",
       "      <td>Saturday</td>\n",
       "      <td>14315547.14</td>\n",
       "      <td>2186627.0</td>\n",
       "    </tr>\n",
       "    <tr>\n",
       "      <td>2</td>\n",
       "      <td>10/3/10</td>\n",
       "      <td>314934.69</td>\n",
       "      <td>5693.0</td>\n",
       "      <td>298304.0</td>\n",
       "      <td>1201440.0</td>\n",
       "      <td>672891.0</td>\n",
       "      <td>57</td>\n",
       "      <td>910262.0</td>\n",
       "      <td>4256748</td>\n",
       "      <td>0</td>\n",
       "      <td>17079000.0</td>\n",
       "      <td>Sunday</td>\n",
       "      <td>18304196.69</td>\n",
       "      <td>2172635.0</td>\n",
       "    </tr>\n",
       "    <tr>\n",
       "      <td>3</td>\n",
       "      <td>10/4/10</td>\n",
       "      <td>735275.26</td>\n",
       "      <td>7634.0</td>\n",
       "      <td>1212023.0</td>\n",
       "      <td>1321080.0</td>\n",
       "      <td>1036487.0</td>\n",
       "      <td>57</td>\n",
       "      <td>910262.0</td>\n",
       "      <td>286411</td>\n",
       "      <td>0</td>\n",
       "      <td>22902000.0</td>\n",
       "      <td>Monday</td>\n",
       "      <td>24547537.26</td>\n",
       "      <td>3569590.0</td>\n",
       "    </tr>\n",
       "    <tr>\n",
       "      <td>4</td>\n",
       "      <td>10/5/10</td>\n",
       "      <td>773972.96</td>\n",
       "      <td>7861.0</td>\n",
       "      <td>1235900.0</td>\n",
       "      <td>1412837.0</td>\n",
       "      <td>1100739.0</td>\n",
       "      <td>57</td>\n",
       "      <td>910262.0</td>\n",
       "      <td>2762952</td>\n",
       "      <td>0</td>\n",
       "      <td>23583000.0</td>\n",
       "      <td>Tuesday</td>\n",
       "      <td>25267234.96</td>\n",
       "      <td>3749476.0</td>\n",
       "    </tr>\n",
       "  </tbody>\n",
       "</table>\n",
       "</div>"
      ],
      "text/plain": [
       "      Date  Search_AD  Membership  Direct_Volumn  Search_Volumn  \\\n",
       "0  10/1/10  611911.04      3164.0       254742.0       925349.0   \n",
       "1  10/2/10  304285.14      4367.0       320438.0      1182742.0   \n",
       "2  10/3/10  314934.69      5693.0       298304.0      1201440.0   \n",
       "3  10/4/10  735275.26      7634.0      1212023.0      1321080.0   \n",
       "4  10/5/10  773972.96      7861.0      1235900.0      1412837.0   \n",
       "\n",
       "   Referral_Volumn  Number_of_Ads  Display_AD  Seller_Community State  \\\n",
       "0         532800.0             57    910262.0              8621     0   \n",
       "1         683447.0             57    910262.0            160992     0   \n",
       "2         672891.0             57    910262.0           4256748     0   \n",
       "3        1036487.0             57    910262.0            286411     0   \n",
       "4        1100739.0             57    910262.0           2762952     0   \n",
       "\n",
       "   Membership_Fee       Day      Revenue     Volumn  \n",
       "0       9492000.0    Friday  11014173.04  1712891.0  \n",
       "1      13101000.0  Saturday  14315547.14  2186627.0  \n",
       "2      17079000.0    Sunday  18304196.69  2172635.0  \n",
       "3      22902000.0    Monday  24547537.26  3569590.0  \n",
       "4      23583000.0   Tuesday  25267234.96  3749476.0  "
      ]
     },
     "execution_count": 27,
     "metadata": {},
     "output_type": "execute_result"
    }
   ],
   "source": [
    "plat_df['Volumn'] = plat_df[\"Direct_Volumn\"] + plat_df[\"Search_Volumn\"] + plat_df[\"Referral_Volumn\"]\n",
    "plat_df.head()"
   ]
  },
  {
   "cell_type": "markdown",
   "metadata": {},
   "source": [
    "# analyze vaviables"
   ]
  },
  {
   "cell_type": "markdown",
   "metadata": {},
   "source": [
    "## Revenue"
   ]
  },
  {
   "cell_type": "code",
   "execution_count": 28,
   "metadata": {},
   "outputs": [
    {
     "data": {
      "image/png": "[encoded data removed]",
      "text/plain": [
       "<Figure size 432x288 with 1 Axes>"
      ]
     },
     "metadata": {
      "needs_background": "light"
     },
     "output_type": "display_data"
    }
   ],
   "source": [
    "ax = sns.boxplot(x = \"Day\", y = \"Revenue\", data = plat_df, order=[\"Monday\", \"Tuesday\", \"Wednesday\", \"Thursday\", \"Friday\", \"Saturday\", \"Sunday\"])"
   ]
  },
  {
   "cell_type": "code",
   "execution_count": 29,
   "metadata": {},
   "outputs": [
    {
     "data": {
      "image/png": "[encoded data removed]",
      "text/plain": [
       "<Figure size 432x288 with 1 Axes>"
      ]
     },
     "metadata": {
      "needs_background": "light"
     },
     "output_type": "display_data"
    }
   ],
   "source": [
    "ax = sns.boxplot(x = \"Day\", y = \"Membership_Fee\", data = plat_df, order=[\"Monday\", \"Tuesday\", \"Wednesday\", \"Thursday\", \"Friday\", \"Saturday\", \"Sunday\"])"
   ]
  },
  {
   "cell_type": "code",
   "execution_count": 30,
   "metadata": {},
   "outputs": [
    {
     "data": {
      "image/png": "[encoded data removed]",
      "text/plain": [
       "<Figure size 432x288 with 1 Axes>"
      ]
     },
     "metadata": {
      "needs_background": "light"
     },
     "output_type": "display_data"
    }
   ],
   "source": [
    "ax = sns.boxplot(x = \"Day\", y = \"Search_AD\", data = plat_df, order=[\"Monday\", \"Tuesday\", \"Wednesday\", \"Thursday\", \"Friday\", \"Saturday\", \"Sunday\"])"
   ]
  },
  {
   "cell_type": "code",
   "execution_count": 31,
   "metadata": {},
   "outputs": [
    {
     "data": {
      "image/png": "[encoded data removed]",
      "text/plain": [
       "<Figure size 432x288 with 1 Axes>"
      ]
     },
     "metadata": {
      "needs_background": "light"
     },
     "output_type": "display_data"
    }
   ],
   "source": [
    "ax = sns.boxplot(x = \"Day\", y = \"Display_AD\", data = plat_df, order=[\"Monday\", \"Tuesday\", \"Wednesday\", \"Thursday\", \"Friday\", \"Saturday\", \"Sunday\"])"
   ]
  },
  {
   "cell_type": "code",
   "execution_count": 32,
   "metadata": {},
   "outputs": [],
   "source": [
    "# group revenue based on Quarters??\n",
    "#df = plat_df.set_index(\"Date\")\n",
    "#df.groupby(by=[df.index.year, df.index.quarter]).mean().Revenue.plot(kind='bar')"
   ]
  },
  {
   "cell_type": "markdown",
   "metadata": {},
   "source": [
    "## volumn"
   ]
  },
  {
   "cell_type": "code",
   "execution_count": 33,
   "metadata": {},
   "outputs": [
    {
     "data": {
      "image/png": "[encoded data removed]",
      "text/plain": [
       "<Figure size 432x288 with 1 Axes>"
      ]
     },
     "metadata": {
      "needs_background": "light"
     },
     "output_type": "display_data"
    }
   ],
   "source": [
    "ax = sns.boxplot(x = \"Day\", y = \"Volumn\", data = plat_df, order=[\"Monday\", \"Tuesday\", \"Wednesday\", \"Thursday\", \"Friday\", \"Saturday\", \"Sunday\"])"
   ]
  },
  {
   "cell_type": "code",
   "execution_count": 34,
   "metadata": {},
   "outputs": [
    {
     "data": {
      "text/plain": [
       "<matplotlib.axes._subplots.AxesSubplot at 0x1a2694a8d0>"
      ]
     },
     "execution_count": 34,
     "metadata": {},
     "output_type": "execute_result"
    },
    {
     "data": {
      "image/png": "[encoded data removed]",
      "text/plain": [
       "<Figure size 432x288 with 1 Axes>"
      ]
     },
     "metadata": {
      "needs_background": "light"
     },
     "output_type": "display_data"
    }
   ],
   "source": [
    "sns.boxplot(x = \"Day\", y = \"Direct_Volumn\", data = plat_df, order=[\"Monday\", \"Tuesday\", \"Wednesday\", \"Thursday\", \"Friday\", \"Saturday\", \"Sunday\"])"
   ]
  },
  {
   "cell_type": "code",
   "execution_count": 35,
   "metadata": {},
   "outputs": [
    {
     "data": {
      "image/png": "[encoded data removed]",
      "text/plain": [
       "<Figure size 432x288 with 1 Axes>"
      ]
     },
     "metadata": {
      "needs_background": "light"
     },
     "output_type": "display_data"
    }
   ],
   "source": [
    "ax2=sns.boxplot(x = \"Day\", y = \"Search_Volumn\", data = plat_df, order=[\"Monday\", \"Tuesday\", \"Wednesday\", \"Thursday\", \"Friday\", \"Saturday\", \"Sunday\"])"
   ]
  },
  {
   "cell_type": "code",
   "execution_count": 36,
   "metadata": {},
   "outputs": [
    {
     "data": {
      "image/png": "[encoded data removed]",
      "text/plain": [
       "<Figure size 432x288 with 1 Axes>"
      ]
     },
     "metadata": {
      "needs_background": "light"
     },
     "output_type": "display_data"
    }
   ],
   "source": [
    "ax3=sns.boxplot(x = \"Day\", y = \"Referral_Volumn\", data = plat_df, order=[\"Monday\", \"Tuesday\", \"Wednesday\", \"Thursday\", \"Friday\", \"Saturday\", \"Sunday\"])"
   ]
  },
  {
   "cell_type": "markdown",
   "metadata": {},
   "source": [
    "# Correlation"
   ]
  },
  {
   "cell_type": "code",
   "execution_count": 37,
   "metadata": {},
   "outputs": [
    {
     "data": {
      "text/plain": [
       "<matplotlib.axes._subplots.AxesSubplot at 0x1a26f232d0>"
      ]
     },
     "execution_count": 37,
     "metadata": {},
     "output_type": "execute_result"
    },
    {
     "data": {
      "image/png": "[encoded data removed]",
      "text/plain": [
       "<Figure size 432x288 with 2 Axes>"
      ]
     },
     "metadata": {
      "needs_background": "light"
     },
     "output_type": "display_data"
    }
   ],
   "source": [
    "corr = plat_df.corr() \n",
    "sns.heatmap(corr)"
   ]
  },
  {
   "cell_type": "code",
   "execution_count": 38,
   "metadata": {},
   "outputs": [
    {
     "data": {
      "text/html": [
       "<div>\n",
       "<style scoped>\n",
       "    .dataframe tbody tr th:only-of-type {\n",
       "        vertical-align: middle;\n",
       "    }\n",
       "\n",
       "    .dataframe tbody tr th {\n",
       "        vertical-align: top;\n",
       "    }\n",
       "\n",
       "    .dataframe thead th {\n",
       "        text-align: right;\n",
       "    }\n",
       "</style>\n",
       "<table border=\"1\" class=\"dataframe\">\n",
       "  <thead>\n",
       "    <tr style=\"text-align: right;\">\n",
       "      <th></th>\n",
       "      <th>Search_AD</th>\n",
       "      <th>Membership</th>\n",
       "      <th>Direct_Volumn</th>\n",
       "      <th>Search_Volumn</th>\n",
       "      <th>Referral_Volumn</th>\n",
       "      <th>Number_of_Ads</th>\n",
       "      <th>Display_AD</th>\n",
       "      <th>Seller_Community</th>\n",
       "      <th>Membership_Fee</th>\n",
       "      <th>Revenue</th>\n",
       "      <th>Volumn</th>\n",
       "    </tr>\n",
       "  </thead>\n",
       "  <tbody>\n",
       "    <tr>\n",
       "      <td>Search_AD</td>\n",
       "      <td>1.000</td>\n",
       "      <td>0.710</td>\n",
       "      <td>0.534</td>\n",
       "      <td>0.352</td>\n",
       "      <td>0.403</td>\n",
       "      <td>0.007</td>\n",
       "      <td>0.051</td>\n",
       "      <td>-0.074</td>\n",
       "      <td>0.710</td>\n",
       "      <td>0.721</td>\n",
       "      <td>0.606</td>\n",
       "    </tr>\n",
       "    <tr>\n",
       "      <td>Membership</td>\n",
       "      <td>0.710</td>\n",
       "      <td>1.000</td>\n",
       "      <td>0.049</td>\n",
       "      <td>0.222</td>\n",
       "      <td>0.493</td>\n",
       "      <td>-0.004</td>\n",
       "      <td>0.041</td>\n",
       "      <td>-0.070</td>\n",
       "      <td>1.000</td>\n",
       "      <td>0.999</td>\n",
       "      <td>0.412</td>\n",
       "    </tr>\n",
       "    <tr>\n",
       "      <td>Direct_Volumn</td>\n",
       "      <td>0.534</td>\n",
       "      <td>0.049</td>\n",
       "      <td>1.000</td>\n",
       "      <td>0.574</td>\n",
       "      <td>0.071</td>\n",
       "      <td>0.076</td>\n",
       "      <td>0.044</td>\n",
       "      <td>0.075</td>\n",
       "      <td>0.049</td>\n",
       "      <td>0.062</td>\n",
       "      <td>0.679</td>\n",
       "    </tr>\n",
       "    <tr>\n",
       "      <td>Search_Volumn</td>\n",
       "      <td>0.352</td>\n",
       "      <td>0.222</td>\n",
       "      <td>0.574</td>\n",
       "      <td>1.000</td>\n",
       "      <td>0.153</td>\n",
       "      <td>0.221</td>\n",
       "      <td>0.158</td>\n",
       "      <td>0.131</td>\n",
       "      <td>0.222</td>\n",
       "      <td>0.233</td>\n",
       "      <td>0.722</td>\n",
       "    </tr>\n",
       "    <tr>\n",
       "      <td>Referral_Volumn</td>\n",
       "      <td>0.403</td>\n",
       "      <td>0.493</td>\n",
       "      <td>0.071</td>\n",
       "      <td>0.153</td>\n",
       "      <td>1.000</td>\n",
       "      <td>0.005</td>\n",
       "      <td>0.089</td>\n",
       "      <td>-0.034</td>\n",
       "      <td>0.493</td>\n",
       "      <td>0.496</td>\n",
       "      <td>0.708</td>\n",
       "    </tr>\n",
       "    <tr>\n",
       "      <td>Number_of_Ads</td>\n",
       "      <td>0.007</td>\n",
       "      <td>-0.004</td>\n",
       "      <td>0.076</td>\n",
       "      <td>0.221</td>\n",
       "      <td>0.005</td>\n",
       "      <td>1.000</td>\n",
       "      <td>0.959</td>\n",
       "      <td>-0.018</td>\n",
       "      <td>-0.004</td>\n",
       "      <td>0.039</td>\n",
       "      <td>0.121</td>\n",
       "    </tr>\n",
       "    <tr>\n",
       "      <td>Display_AD</td>\n",
       "      <td>0.051</td>\n",
       "      <td>0.041</td>\n",
       "      <td>0.044</td>\n",
       "      <td>0.158</td>\n",
       "      <td>0.089</td>\n",
       "      <td>0.959</td>\n",
       "      <td>1.000</td>\n",
       "      <td>-0.040</td>\n",
       "      <td>0.041</td>\n",
       "      <td>0.086</td>\n",
       "      <td>0.135</td>\n",
       "    </tr>\n",
       "    <tr>\n",
       "      <td>Seller_Community</td>\n",
       "      <td>-0.074</td>\n",
       "      <td>-0.070</td>\n",
       "      <td>0.075</td>\n",
       "      <td>0.131</td>\n",
       "      <td>-0.034</td>\n",
       "      <td>-0.018</td>\n",
       "      <td>-0.040</td>\n",
       "      <td>1.000</td>\n",
       "      <td>-0.070</td>\n",
       "      <td>-0.072</td>\n",
       "      <td>0.061</td>\n",
       "    </tr>\n",
       "    <tr>\n",
       "      <td>Membership_Fee</td>\n",
       "      <td>0.710</td>\n",
       "      <td>1.000</td>\n",
       "      <td>0.049</td>\n",
       "      <td>0.222</td>\n",
       "      <td>0.493</td>\n",
       "      <td>-0.004</td>\n",
       "      <td>0.041</td>\n",
       "      <td>-0.070</td>\n",
       "      <td>1.000</td>\n",
       "      <td>0.999</td>\n",
       "      <td>0.412</td>\n",
       "    </tr>\n",
       "    <tr>\n",
       "      <td>Revenue</td>\n",
       "      <td>0.721</td>\n",
       "      <td>0.999</td>\n",
       "      <td>0.062</td>\n",
       "      <td>0.233</td>\n",
       "      <td>0.496</td>\n",
       "      <td>0.039</td>\n",
       "      <td>0.086</td>\n",
       "      <td>-0.072</td>\n",
       "      <td>0.999</td>\n",
       "      <td>1.000</td>\n",
       "      <td>0.424</td>\n",
       "    </tr>\n",
       "    <tr>\n",
       "      <td>Volumn</td>\n",
       "      <td>0.606</td>\n",
       "      <td>0.412</td>\n",
       "      <td>0.679</td>\n",
       "      <td>0.722</td>\n",
       "      <td>0.708</td>\n",
       "      <td>0.121</td>\n",
       "      <td>0.135</td>\n",
       "      <td>0.061</td>\n",
       "      <td>0.412</td>\n",
       "      <td>0.424</td>\n",
       "      <td>1.000</td>\n",
       "    </tr>\n",
       "  </tbody>\n",
       "</table>\n",
       "</div>"
      ],
      "text/plain": [
       "                  Search_AD  Membership  Direct_Volumn  Search_Volumn  \\\n",
       "Search_AD             1.000       0.710          0.534          0.352   \n",
       "Membership            0.710       1.000          0.049          0.222   \n",
       "Direct_Volumn         0.534       0.049          1.000          0.574   \n",
       "Search_Volumn         0.352       0.222          0.574          1.000   \n",
       "Referral_Volumn       0.403       0.493          0.071          0.153   \n",
       "Number_of_Ads         0.007      -0.004          0.076          0.221   \n",
       "Display_AD            0.051       0.041          0.044          0.158   \n",
       "Seller_Community     -0.074      -0.070          0.075          0.131   \n",
       "Membership_Fee        0.710       1.000          0.049          0.222   \n",
       "Revenue               0.721       0.999          0.062          0.233   \n",
       "Volumn                0.606       0.412          0.679          0.722   \n",
       "\n",
       "                  Referral_Volumn  Number_of_Ads  Display_AD  \\\n",
       "Search_AD                   0.403          0.007       0.051   \n",
       "Membership                  0.493         -0.004       0.041   \n",
       "Direct_Volumn               0.071          0.076       0.044   \n",
       "Search_Volumn               0.153          0.221       0.158   \n",
       "Referral_Volumn             1.000          0.005       0.089   \n",
       "Number_of_Ads               0.005          1.000       0.959   \n",
       "Display_AD                  0.089          0.959       1.000   \n",
       "Seller_Community           -0.034         -0.018      -0.040   \n",
       "Membership_Fee              0.493         -0.004       0.041   \n",
       "Revenue                     0.496          0.039       0.086   \n",
       "Volumn                      0.708          0.121       0.135   \n",
       "\n",
       "                  Seller_Community  Membership_Fee  Revenue  Volumn  \n",
       "Search_AD                   -0.074           0.710    0.721   0.606  \n",
       "Membership                  -0.070           1.000    0.999   0.412  \n",
       "Direct_Volumn                0.075           0.049    0.062   0.679  \n",
       "Search_Volumn                0.131           0.222    0.233   0.722  \n",
       "Referral_Volumn             -0.034           0.493    0.496   0.708  \n",
       "Number_of_Ads               -0.018          -0.004    0.039   0.121  \n",
       "Display_AD                  -0.040           0.041    0.086   0.135  \n",
       "Seller_Community             1.000          -0.070   -0.072   0.061  \n",
       "Membership_Fee              -0.070           1.000    0.999   0.412  \n",
       "Revenue                     -0.072           0.999    1.000   0.424  \n",
       "Volumn                       0.061           0.412    0.424   1.000  "
      ]
     },
     "execution_count": 38,
     "metadata": {},
     "output_type": "execute_result"
    }
   ],
   "source": [
    "plat_df.corr().round(3)"
   ]
  },
  {
   "cell_type": "code",
   "execution_count": 39,
   "metadata": {},
   "outputs": [
    {
     "data": {
      "text/plain": [
       "<matplotlib.axes._subplots.AxesSubplot at 0x1a270a2390>"
      ]
     },
     "execution_count": 39,
     "metadata": {},
     "output_type": "execute_result"
    },
    {
     "data": {
      "image/png": "[encoded data removed]",
      "text/plain": [
       "<Figure size 432x288 with 1 Axes>"
      ]
     },
     "metadata": {
      "needs_background": "light"
     },
     "output_type": "display_data"
    }
   ],
   "source": [
    "plat_df.plot.scatter(x = \"Volumn\", y = \"Revenue\")"
   ]
  },
  {
   "cell_type": "code",
   "execution_count": 40,
   "metadata": {},
   "outputs": [
    {
     "data": {
      "text/plain": [
       "<matplotlib.legend.Legend at 0x1a27260fd0>"
      ]
     },
     "execution_count": 40,
     "metadata": {},
     "output_type": "execute_result"
    },
    {
     "data": {
      "image/png": "[encoded data removed]",
      "text/plain": [
       "<Figure size 432x288 with 1 Axes>"
      ]
     },
     "metadata": {
      "needs_background": "light"
     },
     "output_type": "display_data"
    }
   ],
   "source": [
    "plt.plot( 'Date', 'Direct_Volumn', data=plat_df, marker='o', markerfacecolor='blue', markersize=12, color='skyblue', linewidth=4)\n",
    "plt.plot( 'Date', 'Search_Volumn', data=plat_df, marker='', color='olive', linewidth=2)\n",
    "plt.plot( 'Date', 'Referral_Volumn', data=plat_df, marker='', color='red', linewidth=2, linestyle='dashed', label=\"toto\")\n",
    "plt.plot( 'Date', 'Volumn', data=plat_df, marker='', color='green', linewidth=2)\n",
    "plt.legend()\n"
   ]
  },
  {
   "cell_type": "markdown",
   "metadata": {},
   "source": [
    "# different state?"
   ]
  },
  {
   "cell_type": "code",
   "execution_count": 41,
   "metadata": {},
   "outputs": [
    {
     "data": {
      "text/plain": [
       "<matplotlib.axes._subplots.AxesSubplot at 0x1a264e8ed0>"
      ]
     },
     "execution_count": 41,
     "metadata": {},
     "output_type": "execute_result"
    },
    {
     "data": {
      "image/png": "[encoded data removed]",
      "text/plain": [
       "<Figure size 432x288 with 1 Axes>"
      ]
     },
     "metadata": {
      "needs_background": "light"
     },
     "output_type": "display_data"
    }
   ],
   "source": [
    "sns.boxplot(x = \"State\", y = \"Volumn\", data = plat_df)"
   ]
  },
  {
   "cell_type": "code",
   "execution_count": 42,
   "metadata": {},
   "outputs": [
    {
     "data": {
      "text/plain": [
       "<matplotlib.axes._subplots.AxesSubplot at 0x1a2676b410>"
      ]
     },
     "execution_count": 42,
     "metadata": {},
     "output_type": "execute_result"
    },
    {
     "data": {
      "image/png": "[encoded data removed]",
      "text/plain": [
       "<Figure size 432x288 with 1 Axes>"
      ]
     },
     "metadata": {
      "needs_background": "light"
     },
     "output_type": "display_data"
    }
   ],
   "source": [
    "sns.boxplot(x = \"State\", y = \"Revenue\", data = plat_df)"
   ]
  },
  {
   "cell_type": "markdown",
   "metadata": {},
   "source": [
    "# regression"
   ]
  },
  {
   "cell_type": "code",
   "execution_count": 43,
   "metadata": {},
   "outputs": [
    {
     "data": {
      "text/html": [
       "<div>\n",
       "<style scoped>\n",
       "    .dataframe tbody tr th:only-of-type {\n",
       "        vertical-align: middle;\n",
       "    }\n",
       "\n",
       "    .dataframe tbody tr th {\n",
       "        vertical-align: top;\n",
       "    }\n",
       "\n",
       "    .dataframe thead th {\n",
       "        text-align: right;\n",
       "    }\n",
       "</style>\n",
       "<table border=\"1\" class=\"dataframe\">\n",
       "  <thead>\n",
       "    <tr style=\"text-align: right;\">\n",
       "      <th></th>\n",
       "      <th>Date</th>\n",
       "      <th>Search_AD</th>\n",
       "      <th>Membership</th>\n",
       "      <th>Direct_Volumn</th>\n",
       "      <th>Search_Volumn</th>\n",
       "      <th>Referral_Volumn</th>\n",
       "      <th>Number_of_Ads</th>\n",
       "      <th>Display_AD</th>\n",
       "      <th>Seller_Community</th>\n",
       "      <th>State</th>\n",
       "      <th>Membership_Fee</th>\n",
       "      <th>Day</th>\n",
       "      <th>Revenue</th>\n",
       "      <th>Volumn</th>\n",
       "    </tr>\n",
       "  </thead>\n",
       "  <tbody>\n",
       "    <tr>\n",
       "      <td>0</td>\n",
       "      <td>10/1/10</td>\n",
       "      <td>611911.04</td>\n",
       "      <td>3164.0</td>\n",
       "      <td>254742.0</td>\n",
       "      <td>925349.0</td>\n",
       "      <td>532800.0</td>\n",
       "      <td>57</td>\n",
       "      <td>910262.0</td>\n",
       "      <td>8621</td>\n",
       "      <td>0</td>\n",
       "      <td>9492000.0</td>\n",
       "      <td>Friday</td>\n",
       "      <td>11014173.04</td>\n",
       "      <td>1712891.0</td>\n",
       "    </tr>\n",
       "    <tr>\n",
       "      <td>1</td>\n",
       "      <td>10/2/10</td>\n",
       "      <td>304285.14</td>\n",
       "      <td>4367.0</td>\n",
       "      <td>320438.0</td>\n",
       "      <td>1182742.0</td>\n",
       "      <td>683447.0</td>\n",
       "      <td>57</td>\n",
       "      <td>910262.0</td>\n",
       "      <td>160992</td>\n",
       "      <td>0</td>\n",
       "      <td>13101000.0</td>\n",
       "      <td>Saturday</td>\n",
       "      <td>14315547.14</td>\n",
       "      <td>2186627.0</td>\n",
       "    </tr>\n",
       "    <tr>\n",
       "      <td>2</td>\n",
       "      <td>10/3/10</td>\n",
       "      <td>314934.69</td>\n",
       "      <td>5693.0</td>\n",
       "      <td>298304.0</td>\n",
       "      <td>1201440.0</td>\n",
       "      <td>672891.0</td>\n",
       "      <td>57</td>\n",
       "      <td>910262.0</td>\n",
       "      <td>4256748</td>\n",
       "      <td>0</td>\n",
       "      <td>17079000.0</td>\n",
       "      <td>Sunday</td>\n",
       "      <td>18304196.69</td>\n",
       "      <td>2172635.0</td>\n",
       "    </tr>\n",
       "    <tr>\n",
       "      <td>3</td>\n",
       "      <td>10/4/10</td>\n",
       "      <td>735275.26</td>\n",
       "      <td>7634.0</td>\n",
       "      <td>1212023.0</td>\n",
       "      <td>1321080.0</td>\n",
       "      <td>1036487.0</td>\n",
       "      <td>57</td>\n",
       "      <td>910262.0</td>\n",
       "      <td>286411</td>\n",
       "      <td>0</td>\n",
       "      <td>22902000.0</td>\n",
       "      <td>Monday</td>\n",
       "      <td>24547537.26</td>\n",
       "      <td>3569590.0</td>\n",
       "    </tr>\n",
       "    <tr>\n",
       "      <td>4</td>\n",
       "      <td>10/5/10</td>\n",
       "      <td>773972.96</td>\n",
       "      <td>7861.0</td>\n",
       "      <td>1235900.0</td>\n",
       "      <td>1412837.0</td>\n",
       "      <td>1100739.0</td>\n",
       "      <td>57</td>\n",
       "      <td>910262.0</td>\n",
       "      <td>2762952</td>\n",
       "      <td>0</td>\n",
       "      <td>23583000.0</td>\n",
       "      <td>Tuesday</td>\n",
       "      <td>25267234.96</td>\n",
       "      <td>3749476.0</td>\n",
       "    </tr>\n",
       "  </tbody>\n",
       "</table>\n",
       "</div>"
      ],
      "text/plain": [
       "      Date  Search_AD  Membership  Direct_Volumn  Search_Volumn  \\\n",
       "0  10/1/10  611911.04      3164.0       254742.0       925349.0   \n",
       "1  10/2/10  304285.14      4367.0       320438.0      1182742.0   \n",
       "2  10/3/10  314934.69      5693.0       298304.0      1201440.0   \n",
       "3  10/4/10  735275.26      7634.0      1212023.0      1321080.0   \n",
       "4  10/5/10  773972.96      7861.0      1235900.0      1412837.0   \n",
       "\n",
       "   Referral_Volumn  Number_of_Ads  Display_AD  Seller_Community State  \\\n",
       "0         532800.0             57    910262.0              8621     0   \n",
       "1         683447.0             57    910262.0            160992     0   \n",
       "2         672891.0             57    910262.0           4256748     0   \n",
       "3        1036487.0             57    910262.0            286411     0   \n",
       "4        1100739.0             57    910262.0           2762952     0   \n",
       "\n",
       "   Membership_Fee       Day      Revenue     Volumn  \n",
       "0       9492000.0    Friday  11014173.04  1712891.0  \n",
       "1      13101000.0  Saturday  14315547.14  2186627.0  \n",
       "2      17079000.0    Sunday  18304196.69  2172635.0  \n",
       "3      22902000.0    Monday  24547537.26  3569590.0  \n",
       "4      23583000.0   Tuesday  25267234.96  3749476.0  "
      ]
     },
     "execution_count": 43,
     "metadata": {},
     "output_type": "execute_result"
    }
   ],
   "source": [
    "plat_df.head()"
   ]
  },
  {
   "cell_type": "code",
   "execution_count": 44,
   "metadata": {},
   "outputs": [
    {
     "name": "stdout",
     "output_type": "stream",
     "text": [
      "6\n"
     ]
    },
    {
     "data": {
      "text/plain": [
       "0    1712891.0\n",
       "1    2186627.0\n",
       "2    2172635.0\n",
       "3    3569590.0\n",
       "4    3749476.0\n",
       "5    3931756.0\n",
       "6    4085778.0\n",
       "7    4488159.0\n",
       "Name: Volumn, dtype: float64"
      ]
     },
     "execution_count": 44,
     "metadata": {},
     "output_type": "execute_result"
    }
   ],
   "source": [
    "predictors = [\"Search_AD\", \"Display_AD\", \"Membership_Fee\",\"Number_of_Ads\", \"Seller_Community\", \"State\"]\n",
    "outcome = \"Volumn\"\n",
    "X = plat_df[predictors]\n",
    "y = plat_df[outcome]\n",
    "print (len(X.columns))\n",
    "y[:8]"
   ]
  },
  {
   "cell_type": "code",
   "execution_count": 45,
   "metadata": {},
   "outputs": [
    {
     "data": {
      "text/plain": [
       "(214, 6)"
      ]
     },
     "execution_count": 45,
     "metadata": {},
     "output_type": "execute_result"
    }
   ],
   "source": [
    "train_X, test_X, train_y, test_y = train_test_split(X, y, test_size = 0.4, random_state =1) \n",
    "train_X.shape"
   ]
  },
  {
   "cell_type": "code",
   "execution_count": 46,
   "metadata": {},
   "outputs": [
    {
     "name": "stdout",
     "output_type": "stream",
     "text": [
      "intercept  686214.2441977849\n",
      "          Predictor   coefficient\n",
      "0         Search_AD  1.773719e+00\n",
      "1        Display_AD  9.495374e-01\n",
      "2    Membership_Fee  3.562777e-02\n",
      "3     Number_of_Ads -1.354173e+04\n",
      "4  Seller_Community  2.695285e-02\n",
      "5             State -1.122558e+06\n"
     ]
    }
   ],
   "source": [
    "plat_lm = LinearRegression()\n",
    "plat_lm.fit(train_X, train_y)\n",
    "print('intercept ', plat_lm.intercept_)\n",
    "print(pd.DataFrame({'Predictor': X.columns, 'coefficient': plat_lm.coef_})) \n",
    "#regressionSummary(train_y, comp_str_lm.predict(train_X))"
   ]
  },
  {
   "cell_type": "code",
   "execution_count": 47,
   "metadata": {},
   "outputs": [
    {
     "data": {
      "image/png": "[encoded data removed]",
      "text/plain": [
       "<Figure size 432x288 with 1 Axes>"
      ]
     },
     "metadata": {
      "needs_background": "light"
     },
     "output_type": "display_data"
    }
   ],
   "source": [
    "plat_lm_pred = plat_lm.predict(train_X) \n",
    "all_residuals = train_y - plat_lm_pred\n",
    "ax = pd.DataFrame({'Residuals': all_residuals}).hist(bins=25) \n",
    "plt.tight_layout()\n",
    "plt.show()"
   ]
  },
  {
   "cell_type": "code",
   "execution_count": 49,
   "metadata": {},
   "outputs": [
    {
     "name": "stdout",
     "output_type": "stream",
     "text": [
      "                            OLS Regression Results                            \n",
      "==============================================================================\n",
      "Dep. Variable:                 Volumn   R-squared:                       0.581\n",
      "Model:                            OLS   Adj. R-squared:                  0.569\n",
      "Method:                 Least Squares   F-statistic:                     47.84\n",
      "Date:                Mon, 24 Feb 2020   Prob (F-statistic):           1.49e-36\n",
      "Time:                        15:38:21   Log-Likelihood:                -3154.6\n",
      "No. Observations:                 214   AIC:                             6323.\n",
      "Df Residuals:                     207   BIC:                             6347.\n",
      "Df Model:                           6                                         \n",
      "Covariance Type:            nonrobust                                         \n",
      "====================================================================================\n",
      "                       coef    std err          t      P>|t|      [0.025      0.975]\n",
      "------------------------------------------------------------------------------------\n",
      "Intercept         6.862e+05   1.93e+05      3.554      0.000    3.06e+05    1.07e+06\n",
      "State[T.1]       -1.123e+06   1.11e+05    -10.120      0.000   -1.34e+06   -9.04e+05\n",
      "Search_AD            1.7737      0.251      7.054      0.000       1.278       2.269\n",
      "Display_AD           0.9495      0.287      3.314      0.001       0.385       1.514\n",
      "Membership_Fee       0.0356      0.007      4.968      0.000       0.021       0.050\n",
      "Number_of_Ads    -1.354e+04   5095.246     -2.658      0.008   -2.36e+04   -3496.505\n",
      "Seller_Community     0.0270      0.044      0.608      0.544      -0.060       0.114\n",
      "==============================================================================\n",
      "Omnibus:                      205.244   Durbin-Watson:                   2.236\n",
      "Prob(Omnibus):                  0.000   Jarque-Bera (JB):             5815.815\n",
      "Skew:                           3.623   Prob(JB):                         0.00\n",
      "Kurtosis:                      27.489   Cond. No.                     1.78e+08\n",
      "==============================================================================\n",
      "\n",
      "Warnings:\n",
      "[1] Standard Errors assume that the covariance matrix of the errors is correctly specified.\n",
      "[2] The condition number is large, 1.78e+08. This might indicate that there are\n",
      "strong multicollinearity or other numerical problems.\n"
     ]
    }
   ],
   "source": [
    "train_df = train_X.join(train_y)\n",
    "predictors = train_X.columns\n",
    "formula = 'Volumn ~ ' + ' + '.join(predictors) \n",
    "plat_lm = smf.ols(formula=formula, data=train_df).fit() \n",
    "print(plat_lm.summary())\n",
    "###"
   ]
  },
  {
   "cell_type": "code",
   "execution_count": null,
   "metadata": {},
   "outputs": [],
   "source": []
  }
 ],
 "metadata": {
  "kernelspec": {
   "display_name": "Python 3",
   "language": "python",
   "name": "python3"
  },
  "language_info": {
   "codemirror_mode": {
    "name": "ipython",
    "version": 3
   },
   "file_extension": ".py",
   "mimetype": "text/x-python",
   "name": "python",
   "nbconvert_exporter": "python",
   "pygments_lexer": "ipython3",
   "version": "3.7.5"
  }
 },
 "nbformat": 4,
 "nbformat_minor": 2
}
